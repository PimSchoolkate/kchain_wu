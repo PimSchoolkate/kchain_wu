{
 "cells": [
  {
   "cell_type": "markdown",
   "metadata": {},
   "source": [
    "## Introduction"
   ]
  },
  {
   "cell_type": "code",
   "execution_count": 90,
   "metadata": {},
   "outputs": [
    {
     "name": "stdout",
     "output_type": "stream",
     "text": [
      "The autoreload extension is already loaded. To reload it, use:\n",
      "  %reload_ext autoreload\n"
     ]
    }
   ],
   "source": [
    "%load_ext autoreload\n",
    "%autoreload 2"
   ]
  },
  {
   "cell_type": "code",
   "execution_count": 91,
   "metadata": {},
   "outputs": [],
   "source": [
    "import sys\n",
    "\n",
    "sys.path.append('./src')\n",
    "\n",
    "import pandas as pd\n",
    "import numpy as np\n",
    "import matplotlib.pyplot as plt\n",
    "from tabulate import tabulate\n",
    "\n",
    "from model import kchain\n",
    "from data_functions import make_adversarial, make_spirals, standardize, normalize, load_cross_validation_data, load_complete_data\n",
    "from experiment_functions import *\n",
    "\n",
    "from sklearn.model_selection import train_test_split\n",
    "from sklearn.metrics import accuracy_score, f1_score, precision_score, recall_score, roc_auc_score\n",
    "from sklearn.neighbors import KNeighborsClassifier\n",
    "from sklearn.svm import SVC\n",
    "from sklearn.naive_bayes import GaussianNB\n",
    "from sklearn.neural_network import MLPClassifier  "
   ]
  },
  {
   "cell_type": "code",
   "execution_count": 81,
   "metadata": {},
   "outputs": [],
   "source": [
    "def pretty_print_results(res: list, order: list):\n",
    "\n",
    "    table = []\n",
    "\n",
    "    for i, r in enumerate(res):\n",
    "        row = [order[i]]\n",
    "        for k, v in r.items():\n",
    "            row.append(f\"{v['mean']:.3f} +- {v['std']:.3f}\")\n",
    "        table.append(row)\n",
    "    \n",
    "    print(tabulate(table, headers=list(res[0].keys())))\n",
    "        \n",
    "\n",
    "# def print_model_results(res, model_name):\n",
    "\n",
    "#     print(f\"   {model_name} results\")\n",
    "\n",
    "#     print(\"==========================\")\n",
    "#     print(f\"train acc: {res[1]['train_acc']['mean']:.3f} +- {res[1]['train_acc']['std']:.3f}\")\n",
    "#     print(f\"test acc: {res[1]['test_acc']['mean']:.3f} +- {res[1]['test_acc']['std']:.3f}\")\n",
    "#     print(\"--------------------------\\n\")"
   ]
  },
  {
   "cell_type": "code",
   "execution_count": 82,
   "metadata": {},
   "outputs": [],
   "source": [
    "## load the data as provided by Wu et al. (from email contact)\n",
    "\n",
    "random = load_cross_validation_data('random')\n",
    "adversarial = load_cross_validation_data('adversarial')\n",
    "cancer = load_cross_validation_data('cancer')\n",
    "# wu_car = load_cross_validation_data('car') Omitted because it is too large for the kchain.\n",
    "# wu_cifar10 = load_cross_validation_data('cifar10') Omitted because it is too large for the kchain.\n",
    "divorce = load_cross_validation_data('divorce')\n",
    "face = load_cross_validation_data('face')\n",
    "spiral = load_cross_validation_data('spiral')\n",
    "wine = load_cross_validation_data('wine')"
   ]
  },
  {
   "cell_type": "code",
   "execution_count": 83,
   "metadata": {},
   "outputs": [],
   "source": [
    "_, random_Y = load_complete_data('random')\n",
    "_, adversarial_Y = load_complete_data('adversarial')\n",
    "_, cancer_Y = load_complete_data('cancer')\n",
    "_, divorce_Y = load_complete_data('divorce')\n",
    "_, face_Y = load_complete_data('face')\n",
    "_, spiral_Y = load_complete_data('spiral')\n",
    "_, wine_Y = load_complete_data('wine')\n",
    "\n",
    "del _\n"
   ]
  },
  {
   "cell_type": "code",
   "execution_count": 84,
   "metadata": {},
   "outputs": [
    {
     "name": "stdout",
     "output_type": "stream",
     "text": [
      "Random unique Y's: [0 1]\n",
      "Adversarial unique Y's: [0 1]\n",
      "Cancer unique Y's: [2 4]\n",
      "Divorce unique Y's: [0 1]\n",
      "Face unique Y's: [ 0  1  2  3  4  5  6  7  8  9 10 11 12 13 14 15 16 17 18 19]\n",
      "Spiral unique Y's: [1 2 3]\n",
      "Wine unique Y's: [1 2 3]\n"
     ]
    }
   ],
   "source": [
    "print(f\"Random unique Y's: {np.unique(random_Y)}\") \n",
    "print(f\"Adversarial unique Y's: {np.unique(adversarial_Y)}\")\n",
    "print(f\"Cancer unique Y's: {np.unique(cancer_Y)}\")\n",
    "print(f\"Divorce unique Y's: {np.unique(divorce_Y)}\")\n",
    "print(f\"Face unique Y's: {np.unique(face_Y)}\")\n",
    "print(f\"Spiral unique Y's: {np.unique(spiral_Y)}\")\n",
    "print(f\"Wine unique Y's: {np.unique(wine_Y)}\")"
   ]
  },
  {
   "cell_type": "code",
   "execution_count": 108,
   "metadata": {},
   "outputs": [
    {
     "name": "stdout",
     "output_type": "stream",
     "text": [
      "Random # samples in each fold:      54\n",
      "Adversarial # samples in each fold: 72\n",
      "Cancer # samples in each fold:      553\n",
      "Divorce # samples in each fold:     153\n",
      "Face # samples in each fold:        561\n",
      "Spiral # samples in each fold:      1080\n",
      "Wine # samples in each fold:        160\n"
     ]
    }
   ],
   "source": [
    "print(f\"Random # samples in each fold:      {random[1]['X_train'].shape[0]}\")\n",
    "print(f\"Adversarial # samples in each fold: {adversarial[1]['X_train'].shape[0]}\")\n",
    "print(f\"Cancer # samples in each fold:      {cancer[1]['X_train'].shape[0]}\")\n",
    "print(f\"Divorce # samples in each fold:     {divorce[1]['X_train'].shape[0]}\")\n",
    "print(f\"Face # samples in each fold:        {face[1]['X_train'].shape[0]}\")\n",
    "print(f\"Spiral # samples in each fold:      {spiral[1]['X_train'].shape[0]}\")\n",
    "print(f\"Wine # samples in each fold:        {wine[1]['X_train'].shape[0]}\")"
   ]
  },
  {
   "cell_type": "markdown",
   "metadata": {},
   "source": [
    "## Standardizing the data: mapping to {-1, 1}"
   ]
  },
  {
   "cell_type": "code",
   "execution_count": 92,
   "metadata": {},
   "outputs": [],
   "source": [
    "_, kchain_random_results = cv_experiment_kchain(random, kchain, fit_kwargs={'verbose':False}, data_transform='standardize')\n",
    "_, kchain_adversarial_results = cv_experiment_kchain(adversarial, kchain, fit_kwargs={'verbose':False}, data_transform='standardize')\n",
    "_, kchain_cancer_results = cv_experiment_kchain(cancer, kchain, fit_kwargs={'verbose':False}, data_transform='standardize')\n",
    "_, kchain_divorce_results = cv_experiment_kchain(divorce, kchain, fit_kwargs={'verbose':False}, data_transform='standardize')\n",
    "_, kchain_face_results = cv_experiment_kchain(face, kchain, fit_kwargs={'verbose':False}, data_transform='standardize')\n",
    "_, kchain_spiral_results = cv_experiment_kchain(spiral, kchain, fit_kwargs={'verbose':False}, data_transform='standardize')\n",
    "_, kchain_wine_results = cv_experiment_kchain(wine, kchain, fit_kwargs={'verbose':False}, data_transform='standardize')\n"
   ]
  },
  {
   "cell_type": "code",
   "execution_count": 93,
   "metadata": {},
   "outputs": [
    {
     "name": "stdout",
     "output_type": "stream",
     "text": [
      "             time             layers          acc_train       acc_test        f1_train        f1_test         mse_train       mse_test         hsic_train         hsic_test        knn_acc_train    knn_acc_test    gnb_acc_train    gnb_acc_test\n",
      "-----------  ---------------  --------------  --------------  --------------  --------------  --------------  --------------  ---------------  -----------------  ---------------  ---------------  --------------  ---------------  --------------\n",
      "random       0.183 +- 0.081   4.400 +- 1.428  0.944 +- 0.059  0.517 +- 0.252  0.944 +- 0.059  0.513 +- 0.268  0.056 +- 0.059  0.483 +- 0.252   8.524 +- 4.010     0.289 +- 0.163   1.000 +- 0.000   0.583 +- 0.250  0.946 +- 0.046   0.517 +- 0.263\n",
      "adversarial  0.287 +- 0.157   5.000 +- 1.000  0.879 +- 0.107  0.338 +- 0.224  0.879 +- 0.108  0.324 +- 0.224  0.121 +- 0.107  0.662 +- 0.224   10.021 +- 5.679    0.425 +- 0.443   1.000 +- 0.000   0.338 +- 0.177  0.883 +- 0.110   0.338 +- 0.210\n",
      "cancer       4.234 +- 0.568   3.400 +- 0.490  0.968 +- 0.004  0.971 +- 0.020  0.968 +- 0.004  0.971 +- 0.020  0.032 +- 0.004  0.029 +- 0.020   96.556 +- 2.979    10.385 +- 2.241  1.000 +- 0.000   0.946 +- 0.037  0.968 +- 0.004   0.971 +- 0.020\n",
      "divorce      0.305 +- 0.054   3.100 +- 0.539  0.976 +- 0.004  0.976 +- 0.039  0.976 +- 0.004  0.977 +- 0.039  0.024 +- 0.004  0.024 +- 0.039   32.378 +- 0.978    3.391 +- 0.545   1.000 +- 0.000   0.953 +- 0.058  0.973 +- 0.009   0.959 +- 0.075\n",
      "face         9.764 +- 0.439   9.900 +- 0.300  0.881 +- 0.041  0.864 +- 0.043  0.863 +- 0.051  0.847 +- 0.055  8.366 +- 4.238  10.898 +- 5.192  22.320 +- 1.075    3.060 +- 0.191   1.000 +- 0.000   0.909 +- 0.020  0.897 +- 0.037   0.867 +- 0.032\n",
      "spiral       23.819 +- 8.017  5.200 +- 0.600  0.975 +- 0.015  0.973 +- 0.022  0.975 +- 0.015  0.973 +- 0.022  0.065 +- 0.058  0.062 +- 0.062   205.133 +- 10.456  22.847 +- 1.714  1.000 +- 0.000   0.982 +- 0.011  0.982 +- 0.013   0.977 +- 0.021\n",
      "wine         0.551 +- 0.090   4.900 +- 0.539  0.964 +- 0.014  0.966 +- 0.037  0.964 +- 0.014  0.966 +- 0.037  0.036 +- 0.014  0.034 +- 0.037   29.114 +- 1.460    3.053 +- 0.371   1.000 +- 0.000   0.939 +- 0.052  0.969 +- 0.015   0.961 +- 0.050\n"
     ]
    }
   ],
   "source": [
    "res = [kchain_random_results, kchain_adversarial_results, kchain_cancer_results, kchain_divorce_results, kchain_face_results, kchain_spiral_results, kchain_wine_results]\n",
    "order = ['random', 'adversarial', 'cancer', 'divorce', 'face', 'spiral', 'wine']\n",
    "\n",
    "pretty_print_results(res, order)"
   ]
  },
  {
   "cell_type": "code",
   "execution_count": 103,
   "metadata": {},
   "outputs": [],
   "source": [
    "_, knn_random_res = cv_experiment(random, KNeighborsClassifier, model_kwargs={'n_neighbors': 1}, data_transform='standardize')\n",
    "_, knn_adversarial_res = cv_experiment(adversarial, KNeighborsClassifier, model_kwargs={'n_neighbors': 1}, data_transform='standardize')\n",
    "_, knn_cancer_res = cv_experiment(cancer, KNeighborsClassifier, model_kwargs={'n_neighbors': 1}, data_transform='standardize')\n",
    "_, knn_divorce_res = cv_experiment(divorce, KNeighborsClassifier, model_kwargs={'n_neighbors': 1}, data_transform='standardize')\n",
    "_, knn_face_res = cv_experiment(face, KNeighborsClassifier, model_kwargs={'n_neighbors': 1}, data_transform='standardize')\n",
    "_, knn_spiral_res = cv_experiment(spiral, KNeighborsClassifier, model_kwargs={'n_neighbors': 1}, data_transform='standardize')\n",
    "_, knn_wine_res = cv_experiment(wine, KNeighborsClassifier, model_kwargs={'n_neighbors': 1}, data_transform='standardize')\n",
    "\n",
    "_, gnb_random_res = cv_experiment(random, GaussianNB, data_transform='standardize')\n",
    "_, gnb_adversarial_res = cv_experiment(adversarial, GaussianNB, data_transform='standardize')\n",
    "_, gnb_cancer_res = cv_experiment(cancer, GaussianNB, data_transform='standardize')\n",
    "_, gnb_divorce_res = cv_experiment(divorce, GaussianNB, data_transform='standardize')\n",
    "_, gnb_face_res = cv_experiment(face, GaussianNB, data_transform='standardize')\n",
    "_, gnb_spiral_res = cv_experiment(spiral, GaussianNB, data_transform='standardize')\n",
    "_, gnb_wine_res = cv_experiment(wine, GaussianNB, data_transform='standardize')\n",
    "\n",
    "_, svm_random_res = cv_experiment(random, SVC, data_transform='standardize')\n",
    "_, svm_adversarial_res = cv_experiment(adversarial, SVC, data_transform='standardize')\n",
    "_, svm_cancer_res = cv_experiment(cancer, SVC, data_transform='standardize')\n",
    "_, svm_divorce_res = cv_experiment(divorce, SVC, data_transform='standardize')\n",
    "_, svm_face_res = cv_experiment(face, SVC, data_transform='standardize')\n",
    "_, svm_spiral_res = cv_experiment(spiral, SVC, data_transform='standardize')\n",
    "_, svm_wine_res = cv_experiment(wine, SVC, data_transform='standardize')\n",
    "\n",
    "_, mlp_random_res = cv_experiment(random, MLPClassifier, data_transform='standardize', model_kwargs={'max_iter': 10000})\n",
    "_, mlp_adversarial_res = cv_experiment(adversarial, MLPClassifier, data_transform='standardize', model_kwargs={'max_iter': 10000})\n",
    "_, mlp_cancer_res = cv_experiment(cancer, MLPClassifier, data_transform='standardize', model_kwargs={'max_iter': 10000})\n",
    "_, mlp_divorce_res = cv_experiment(divorce, MLPClassifier, data_transform='standardize', model_kwargs={'max_iter': 10000})\n",
    "_, mlp_face_res = cv_experiment(face, MLPClassifier, data_transform='standardize', model_kwargs={'max_iter': 10000})\n",
    "_, mlp_spiral_res = cv_experiment(spiral, MLPClassifier, data_transform='standardize', model_kwargs={'max_iter': 1000})\n",
    "_, mlp_wine_res = cv_experiment(wine, MLPClassifier, data_transform='standardize', model_kwargs={'max_iter': 10000})"
   ]
  },
  {
   "cell_type": "code",
   "execution_count": 104,
   "metadata": {},
   "outputs": [
    {
     "name": "stdout",
     "output_type": "stream",
     "text": [
      "KNN results\n",
      "             train_acc       test_acc\n",
      "-----------  --------------  --------------\n",
      "random       1.000 +- 0.000  0.550 +- 0.150\n",
      "adversarial  1.000 +- 0.000  0.037 +- 0.080\n",
      "cancer       1.000 +- 0.000  0.958 +- 0.016\n",
      "divorce      1.000 +- 0.000  0.976 +- 0.039\n",
      "face         1.000 +- 0.000  0.992 +- 0.011\n",
      "spiral       1.000 +- 0.000  1.000 +- 0.000\n",
      "wine         1.000 +- 0.000  0.955 +- 0.035\n",
      "\n",
      "====================================\n",
      "\n",
      "GNB results\n",
      "             train_acc       test_acc\n",
      "-----------  --------------  --------------\n",
      "random       0.596 +- 0.031  0.533 +- 0.180\n",
      "adversarial  0.528 +- 0.016  0.275 +- 0.094\n",
      "cancer       0.968 +- 0.003  0.968 +- 0.023\n",
      "divorce      0.980 +- 0.005  0.971 +- 0.054\n",
      "face         1.000 +- 0.000  0.938 +- 0.032\n",
      "spiral       0.880 +- 0.004  0.879 +- 0.035\n",
      "wine         0.986 +- 0.004  0.977 +- 0.037\n",
      "\n",
      "====================================\n",
      "\n",
      "SVM results\n",
      "             train_acc       test_acc\n",
      "-----------  --------------  --------------\n",
      "random       0.722 +- 0.035  0.583 +- 0.171\n",
      "adversarial  0.525 +- 0.014  0.225 +- 0.109\n",
      "cancer       0.981 +- 0.003  0.974 +- 0.022\n",
      "divorce      0.982 +- 0.003  0.976 +- 0.039\n",
      "face         0.998 +- 0.001  0.990 +- 0.011\n",
      "spiral       1.000 +- 0.000  1.000 +- 0.000\n",
      "wine         0.999 +- 0.002  0.977 +- 0.028\n",
      "\n",
      "====================================\n",
      "\n",
      "MLP results\n",
      "             train_acc       test_acc\n",
      "-----------  --------------  --------------\n",
      "random       1.000 +- 0.000  0.517 +- 0.157\n",
      "adversarial  0.533 +- 0.009  0.200 +- 0.083\n",
      "cancer       0.991 +- 0.004  0.977 +- 0.021\n",
      "divorce      0.999 +- 0.002  0.976 +- 0.039\n",
      "face         1.000 +- 0.000  0.994 +- 0.008\n",
      "spiral       1.000 +- 0.000  0.999 +- 0.002\n",
      "wine         1.000 +- 0.000  0.983 +- 0.026\n"
     ]
    }
   ],
   "source": [
    "knn_res = [knn_random_res, knn_adversarial_res, knn_cancer_res, knn_divorce_res, knn_face_res, knn_spiral_res, knn_wine_res]\n",
    "print(\"KNN results\")\n",
    "pretty_print_results(knn_res, order)\n",
    "\n",
    "print(\"\\n====================================\\n\")\n",
    "\n",
    "gnb_res = [gnb_random_res, gnb_adversarial_res, gnb_cancer_res, gnb_divorce_res, gnb_face_res, gnb_spiral_res, gnb_wine_res]\n",
    "print(\"GNB results\")\n",
    "pretty_print_results(gnb_res, order)\n",
    "\n",
    "print(\"\\n====================================\\n\")\n",
    "\n",
    "svm_res = [svm_random_res, svm_adversarial_res, svm_cancer_res, svm_divorce_res, svm_face_res, svm_spiral_res, svm_wine_res]\n",
    "print(\"SVM results\")\n",
    "pretty_print_results(svm_res, order)\n",
    "\n",
    "print(\"\\n====================================\\n\")\n",
    "\n",
    "mlp_res = [mlp_random_res, mlp_adversarial_res, mlp_cancer_res, mlp_divorce_res, mlp_face_res, mlp_spiral_res, mlp_wine_res]\n",
    "print(\"MLP results\")\n",
    "pretty_print_results(mlp_res, order)"
   ]
  },
  {
   "cell_type": "markdown",
   "metadata": {},
   "source": [
    "## Normalizing the data: mapping to {0, 1}"
   ]
  },
  {
   "cell_type": "code",
   "execution_count": 96,
   "metadata": {},
   "outputs": [],
   "source": [
    "_, kchain_random_results = cv_experiment_kchain(random, kchain, fit_kwargs={'verbose':False}, data_transform='normalize')\n",
    "_, kchain_adversarial_results = cv_experiment_kchain(adversarial, kchain, fit_kwargs={'verbose':False}, data_transform='normalize')\n",
    "_, kchain_cancer_results = cv_experiment_kchain(cancer, kchain, fit_kwargs={'verbose':False}, data_transform='normalize')\n",
    "_, kchain_divorce_results = cv_experiment_kchain(divorce, kchain, fit_kwargs={'verbose':False}, data_transform='normalize')\n",
    "_, kchain_face_results = cv_experiment_kchain(face, kchain, fit_kwargs={'verbose':False}, data_transform='normalize')\n",
    "_, kchain_spiral_results = cv_experiment_kchain(spiral, kchain, fit_kwargs={'verbose':False}, data_transform='normalize')\n",
    "_, kchain_wine_results = cv_experiment_kchain(wine, kchain, fit_kwargs={'verbose':False}, data_transform='normalize')"
   ]
  },
  {
   "cell_type": "code",
   "execution_count": 97,
   "metadata": {},
   "outputs": [
    {
     "name": "stdout",
     "output_type": "stream",
     "text": [
      "             time             layers          acc_train       acc_test        f1_train        f1_test         mse_train        mse_test          hsic_train        hsic_test        knn_acc_train    knn_acc_test    gnb_acc_train    gnb_acc_test\n",
      "-----------  ---------------  --------------  --------------  --------------  --------------  --------------  ---------------  ----------------  ----------------  ---------------  ---------------  --------------  ---------------  --------------\n",
      "random       0.105 +- 0.018   5.100 +- 0.831  0.952 +- 0.035  0.400 +- 0.111  0.952 +- 0.036  0.386 +- 0.122  0.048 +- 0.035   0.600 +- 0.111    9.475 +- 3.157    0.214 +- 0.114   1.000 +- 0.000   0.467 +- 0.194  0.950 +- 0.039   0.350 +- 0.157\n",
      "adversarial  0.214 +- 0.067   4.000 +- 1.949  0.751 +- 0.028  0.275 +- 0.146  0.750 +- 0.029  0.261 +- 0.150  0.249 +- 0.028   0.725 +- 0.146    2.662 +- 1.261    0.397 +- 0.287   1.000 +- 0.000   0.312 +- 0.140  0.744 +- 0.032   0.325 +- 0.115\n",
      "cancer       3.526 +- 0.801   2.900 +- 0.700  0.973 +- 0.007  0.976 +- 0.022  0.973 +- 0.006  0.976 +- 0.022  0.027 +- 0.007   0.024 +- 0.022    97.438 +- 3.265   10.538 +- 2.640  1.000 +- 0.000   0.964 +- 0.022  0.976 +- 0.002   0.974 +- 0.022\n",
      "divorce      0.415 +- 0.117   3.100 +- 0.539  0.973 +- 0.008  0.959 +- 0.038  0.973 +- 0.008  0.959 +- 0.038  0.027 +- 0.008   0.041 +- 0.038    31.854 +- 1.046   3.279 +- 0.470   1.000 +- 0.000   0.959 +- 0.059  0.986 +- 0.007   0.982 +- 0.027\n",
      "face         7.288 +- 1.666   7.500 +- 2.419  0.570 +- 0.119  0.548 +- 0.126  0.492 +- 0.147  0.483 +- 0.153  21.790 +- 8.503  25.306 +- 12.953  16.672 +- 1.522   2.499 +- 0.215   1.000 +- 0.000   0.680 +- 0.112  0.609 +- 0.102   0.560 +- 0.100\n",
      "spiral       17.999 +- 2.988  6.100 +- 0.831  0.843 +- 0.007  0.832 +- 0.030  0.841 +- 0.008  0.830 +- 0.030  0.464 +- 0.020   0.491 +- 0.101    136.390 +- 3.358  14.867 +- 1.660  1.000 +- 0.000   0.814 +- 0.035  0.840 +- 0.008   0.835 +- 0.029\n",
      "wine         0.223 +- 0.067   4.000 +- 1.673  0.643 +- 0.053  0.623 +- 0.114  0.626 +- 0.067  0.604 +- 0.119  0.533 +- 0.053   0.560 +- 0.171    12.046 +- 2.714   1.402 +- 0.633   1.000 +- 0.000   0.624 +- 0.092  0.656 +- 0.073   0.577 +- 0.117\n"
     ]
    }
   ],
   "source": [
    "res = [kchain_random_results, kchain_adversarial_results, kchain_cancer_results, kchain_divorce_results, kchain_face_results, kchain_spiral_results, kchain_wine_results]\n",
    "order = ['random', 'adversarial', 'cancer', 'divorce', 'face', 'spiral', 'wine']\n",
    "\n",
    "pretty_print_results(res, order)"
   ]
  },
  {
   "cell_type": "code",
   "execution_count": 98,
   "metadata": {},
   "outputs": [],
   "source": [
    "\n",
    "_, knn_random_res = cv_experiment(random, KNeighborsClassifier, model_kwargs={'n_neighbors': 1}, data_transform='normalize')\n",
    "_, knn_adversarial_res = cv_experiment(adversarial, KNeighborsClassifier, model_kwargs={'n_neighbors': 1}, data_transform='normalize')\n",
    "_, knn_cancer_res = cv_experiment(cancer, KNeighborsClassifier, model_kwargs={'n_neighbors': 1}, data_transform='normalize')\n",
    "_, knn_divorce_res = cv_experiment(divorce, KNeighborsClassifier, model_kwargs={'n_neighbors': 1}, data_transform='normalize')\n",
    "_, knn_face_res = cv_experiment(face, KNeighborsClassifier, model_kwargs={'n_neighbors': 1}, data_transform='normalize')\n",
    "_, knn_spiral_res = cv_experiment(spiral, KNeighborsClassifier, model_kwargs={'n_neighbors': 1}, data_transform='normalize')\n",
    "_, knn_wine_res = cv_experiment(wine, KNeighborsClassifier, model_kwargs={'n_neighbors': 1}, data_transform='normalize')\n",
    "\n",
    "_, gnb_random_res = cv_experiment(random, GaussianNB, data_transform='normalize')\n",
    "_, gnb_adversarial_res = cv_experiment(adversarial, GaussianNB, data_transform='normalize')\n",
    "_, gnb_cancer_res = cv_experiment(cancer, GaussianNB, data_transform='normalize')\n",
    "_, gnb_divorce_res = cv_experiment(divorce, GaussianNB, data_transform='normalize')\n",
    "_, gnb_face_res = cv_experiment(face, GaussianNB, data_transform='normalize')\n",
    "_, gnb_spiral_res = cv_experiment(spiral, GaussianNB, data_transform='normalize')\n",
    "_, gnb_wine_res = cv_experiment(wine, GaussianNB, data_transform='normalize')\n",
    "\n",
    "_, svm_random_res = cv_experiment(random, SVC, data_transform='normalize')\n",
    "_, svm_adversarial_res = cv_experiment(adversarial, SVC, data_transform='normalize')\n",
    "_, svm_cancer_res = cv_experiment(cancer, SVC, data_transform='normalize')\n",
    "_, svm_divorce_res = cv_experiment(divorce, SVC, data_transform='normalize')\n",
    "_, svm_face_res = cv_experiment(face, SVC, data_transform='normalize')\n",
    "_, svm_spiral_res = cv_experiment(spiral, SVC, data_transform='normalize')\n",
    "_, svm_wine_res = cv_experiment(wine, SVC, data_transform='normalize')\n",
    "\n",
    "_, mlp_random_res = cv_experiment(random, MLPClassifier, data_transform='normalize', model_kwargs={'max_iter': 10000})\n",
    "_, mlp_adversarial_res = cv_experiment(adversarial, MLPClassifier, data_transform='normalize', model_kwargs={'max_iter': 10000})\n",
    "_, mlp_cancer_res = cv_experiment(cancer, MLPClassifier, data_transform='normalize', model_kwargs={'max_iter': 10000})\n",
    "_, mlp_divorce_res = cv_experiment(divorce, MLPClassifier, data_transform='normalize', model_kwargs={'max_iter': 10000})\n",
    "_, mlp_face_res = cv_experiment(face, MLPClassifier, data_transform='normalize', model_kwargs={'max_iter': 10000})\n",
    "_, mlp_spiral_res = cv_experiment(spiral, MLPClassifier, data_transform='normalize', model_kwargs={'max_iter': 1000})\n",
    "_, mlp_wine_res = cv_experiment(wine, MLPClassifier, data_transform='normalize', model_kwargs={'max_iter': 10000})\n"
   ]
  },
  {
   "cell_type": "code",
   "execution_count": 99,
   "metadata": {},
   "outputs": [
    {
     "name": "stdout",
     "output_type": "stream",
     "text": [
      "KNN results\n",
      "             train_acc       test_acc\n",
      "-----------  --------------  --------------\n",
      "random       1.000 +- 0.000  0.533 +- 0.163\n",
      "adversarial  1.000 +- 0.000  0.325 +- 0.127\n",
      "cancer       1.000 +- 0.000  0.968 +- 0.023\n",
      "divorce      1.000 +- 0.000  0.982 +- 0.027\n",
      "face         1.000 +- 0.000  0.998 +- 0.005\n",
      "spiral       1.000 +- 0.000  0.823 +- 0.023\n",
      "wine         1.000 +- 0.000  0.859 +- 0.078\n",
      "\n",
      "====================================\n",
      "\n",
      "GNB results\n",
      "             train_acc       test_acc\n",
      "-----------  --------------  --------------\n",
      "random       0.598 +- 0.035  0.517 +- 0.157\n",
      "adversarial  0.522 +- 0.017  0.338 +- 0.148\n",
      "cancer       0.970 +- 0.002  0.967 +- 0.021\n",
      "divorce      0.976 +- 0.004  0.971 +- 0.054\n",
      "face         1.000 +- 0.000  0.949 +- 0.029\n",
      "spiral       0.851 +- 0.005  0.851 +- 0.032\n",
      "wine         0.903 +- 0.006  0.899 +- 0.054\n",
      "\n",
      "====================================\n",
      "\n",
      "SVM results\n",
      "             train_acc       test_acc\n",
      "-----------  --------------  --------------\n",
      "random       0.700 +- 0.025  0.617 +- 0.183\n",
      "adversarial  0.532 +- 0.023  0.300 +- 0.100\n",
      "cancer       0.987 +- 0.002  0.979 +- 0.018\n",
      "divorce      0.999 +- 0.003  0.976 +- 0.039\n",
      "face         0.997 +- 0.001  0.994 +- 0.008\n",
      "spiral       0.850 +- 0.005  0.848 +- 0.038\n",
      "wine         0.617 +- 0.032  0.618 +- 0.072\n",
      "\n",
      "====================================\n",
      "\n",
      "MLP results\n",
      "             train_acc       test_acc\n",
      "-----------  --------------  --------------\n",
      "random       0.991 +- 0.009  0.583 +- 0.186\n",
      "adversarial  0.512 +- 0.017  0.400 +- 0.135\n",
      "cancer       0.985 +- 0.003  0.974 +- 0.021\n",
      "divorce      1.000 +- 0.000  0.976 +- 0.039\n",
      "face         1.000 +- 0.000  0.998 +- 0.005\n",
      "spiral       0.849 +- 0.004  0.847 +- 0.037\n",
      "wine         0.936 +- 0.007  0.916 +- 0.057\n"
     ]
    }
   ],
   "source": [
    "knn_res = [knn_random_res, knn_adversarial_res, knn_cancer_res, knn_divorce_res, knn_face_res, knn_spiral_res, knn_wine_res]\n",
    "print(\"KNN results\")\n",
    "pretty_print_results(knn_res, order)\n",
    "\n",
    "print(\"\\n====================================\\n\")\n",
    "\n",
    "gnb_res = [gnb_random_res, gnb_adversarial_res, gnb_cancer_res, gnb_divorce_res, gnb_face_res, gnb_spiral_res, gnb_wine_res]\n",
    "print(\"GNB results\")\n",
    "pretty_print_results(gnb_res, order)\n",
    "\n",
    "print(\"\\n====================================\\n\")\n",
    "\n",
    "svm_res = [svm_random_res, svm_adversarial_res, svm_cancer_res, svm_divorce_res, svm_face_res, svm_spiral_res, svm_wine_res]\n",
    "print(\"SVM results\")\n",
    "pretty_print_results(svm_res, order)\n",
    "\n",
    "print(\"\\n====================================\\n\")\n",
    "\n",
    "mlp_res = [mlp_random_res, mlp_adversarial_res, mlp_cancer_res, mlp_divorce_res, mlp_face_res, mlp_spiral_res, mlp_wine_res]\n",
    "print(\"MLP results\")\n",
    "pretty_print_results(mlp_res, order)"
   ]
  }
 ],
 "metadata": {
  "kernelspec": {
   "display_name": "pytorch",
   "language": "python",
   "name": "python3"
  },
  "language_info": {
   "codemirror_mode": {
    "name": "ipython",
    "version": 3
   },
   "file_extension": ".py",
   "mimetype": "text/x-python",
   "name": "python",
   "nbconvert_exporter": "python",
   "pygments_lexer": "ipython3",
   "version": "3.8.9"
  },
  "orig_nbformat": 4
 },
 "nbformat": 4,
 "nbformat_minor": 2
}
